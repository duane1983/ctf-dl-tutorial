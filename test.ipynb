{
  "nbformat": 4,
  "nbformat_minor": 0,
  "metadata": {
    "colab": {
      "provenance": []
    },
    "kernelspec": {
      "name": "python3",
      "display_name": "Python 3"
    },
    "language_info": {
      "name": "python"
    }
  },
  "cells": [
    {
      "cell_type": "code",
      "source": [
        "import os\n",
        "import scipy.io"
      ],
      "metadata": {
        "id": "D6QIb5zOSi2v"
      },
      "execution_count": 5,
      "outputs": []
    },
    {
      "cell_type": "code",
      "execution_count": 1,
      "metadata": {
        "colab": {
          "base_uri": "https://localhost:8080/"
        },
        "id": "e2-lIL57RR3g",
        "outputId": "2f119fe4-2a6a-4468-cec4-e76591fcdacd"
      },
      "outputs": [
        {
          "output_type": "stream",
          "name": "stdout",
          "text": [
            "Mounted at /gdrive/\n",
            "MyDrive  Shareddrives\n"
          ]
        }
      ],
      "source": [
        "from google.colab import drive\n",
        "drive.mount('/gdrive/')\n",
        "!ls /gdrive"
      ]
    },
    {
      "cell_type": "code",
      "source": [
        "BASE_PATH = '/gdrive/My Drive/CTF Deep Learning Workshop/'\n",
        "if not os.path.exists(BASE_PATH):\n",
        "    os.makedirs(BASE_PATH)\n",
        "DATA_PATH = BASE_PATH + 'Sea surface temperature/'"
      ],
      "metadata": {
        "id": "fLrQRBl8RoWP"
      },
      "execution_count": 4,
      "outputs": []
    },
    {
      "cell_type": "code",
      "source": [
        "data = scipy.io.loadmat(os.path.join(DATA_PATH, 'SST_data.mat'))"
      ],
      "metadata": {
        "id": "B-rRj-nfShZe"
      },
      "execution_count": 6,
      "outputs": []
    },
    {
      "cell_type": "code",
      "source": [
        "data"
      ],
      "metadata": {
        "colab": {
          "base_uri": "https://localhost:8080/"
        },
        "id": "ISLPn2AzTZsh",
        "outputId": "de44adb6-3390-4b3e-9890-bf3436a7152d"
      },
      "execution_count": 7,
      "outputs": [
        {
          "output_type": "execute_result",
          "data": {
            "text/plain": [
              "{'__header__': b'MATLAB 5.0 MAT-file, Platform: MACI64, Created on: Wed May 26 13:05:49 2021',\n",
              " '__version__': '1.0',\n",
              " '__globals__': [],\n",
              " 'Z': array([[-1.79999996, -1.79999996, -1.79999996, ..., -1.79999996,\n",
              "         -1.79999996, -1.79999996],\n",
              "        [-1.79999996, -1.79999996, -1.79999996, ..., -1.79999996,\n",
              "         -1.79999996, -1.79999996],\n",
              "        [-1.79999996, -1.79999996, -1.79999996, ..., -1.79999996,\n",
              "         -1.79999996, -1.79999996],\n",
              "        ...,\n",
              "        [-0.        , -0.        , -0.        , ..., -0.        ,\n",
              "         -0.        , -0.        ],\n",
              "        [-0.        , -0.        , -0.        , ..., -0.        ,\n",
              "         -0.        , -0.        ],\n",
              "        [-0.        , -0.        , -0.        , ..., -0.        ,\n",
              "         -0.        , -0.        ]])}"
            ]
          },
          "metadata": {},
          "execution_count": 7
        }
      ]
    },
    {
      "cell_type": "code",
      "source": [],
      "metadata": {
        "id": "FyGXft7dTcam"
      },
      "execution_count": null,
      "outputs": []
    }
  ]
}