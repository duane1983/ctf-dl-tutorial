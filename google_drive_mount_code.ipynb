{
  "cells": [
    {
      "cell_type": "code",
      "execution_count": 10,
      "metadata": {
        "id": "D6QIb5zOSi2v"
      },
      "outputs": [],
      "source": [
        "import os\n",
        "import scipy.io\n",
        "\n",
        "import pandas as pd"
      ]
    },
    {
      "cell_type": "code",
      "execution_count": 1,
      "metadata": {
        "colab": {
          "base_uri": "https://localhost:8080/"
        },
        "id": "e2-lIL57RR3g",
        "outputId": "2f119fe4-2a6a-4468-cec4-e76591fcdacd"
      },
      "outputs": [
        {
          "name": "stdout",
          "output_type": "stream",
          "text": [
            "Mounted at /gdrive/\n",
            "MyDrive  Shareddrives\n"
          ]
        }
      ],
      "source": [
        "from google.colab import drive\n",
        "drive.mount('/gdrive/')\n",
        "!ls /gdrive"
      ]
    },
    {
      "cell_type": "code",
      "execution_count": 4,
      "metadata": {
        "id": "fLrQRBl8RoWP"
      },
      "outputs": [],
      "source": [
        "BASE_PATH = '/gdrive/My Drive/CTF Deep Learning Workshop/'\n",
        "if not os.path.exists(BASE_PATH):\n",
        "    os.makedirs(BASE_PATH)\n",
        "DATA_PATH = BASE_PATH + 'Sea surface temperature/'"
      ]
    },
    {
      "cell_type": "code",
      "execution_count": 6,
      "metadata": {
        "id": "B-rRj-nfShZe"
      },
      "outputs": [],
      "source": [
        "data = scipy.io.loadmat(os.path.join(DATA_PATH, 'SST_data.mat'))"
      ]
    },
    {
      "cell_type": "code",
      "execution_count": null,
      "metadata": {
        "id": "FyGXft7dTcam"
      },
      "outputs": [],
      "source": []
    }
  ],
  "metadata": {
    "colab": {
      "provenance": []
    },
    "kernelspec": {
      "display_name": "base",
      "language": "python",
      "name": "python3"
    },
    "language_info": {
      "name": "python",
      "version": "3.8.5"
    },
    "vscode": {
      "interpreter": {
        "hash": "1cec93c3674bfd1afa4b15c70c9d9dc0c8affa484b58136f14c49e79b9d4b788"
      }
    }
  },
  "nbformat": 4,
  "nbformat_minor": 0
}
