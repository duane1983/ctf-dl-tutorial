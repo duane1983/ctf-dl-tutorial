{
 "cells": [
  {
   "cell_type": "markdown",
   "metadata": {},
   "source": [
    "Let's first import the libraries we need for running the show"
   ]
  },
  {
   "cell_type": "code",
   "execution_count": 1,
   "metadata": {
    "id": "Fiwv3J_GO5zQ"
   },
   "outputs": [],
   "source": [
    "import numpy as np\n",
    "import matplotlib.pyplot as plt\n",
    "from sklearn.linear_model import LinearRegression\n",
    "from sklearn.model_selection import train_test_split\n",
    "from sklearn.metrics import mean_squared_error"
   ]
  },
  {
   "cell_type": "markdown",
   "metadata": {
    "id": "HL9HpnFpLTl9"
   },
   "source": [
    "Any machine learning problem starts with data! If you have a machine learning idea in mind, first look for the data. If it's hard to get, you might want to change your mind. The more data the better, especially if you planning to use neural networks.\n",
    "\n",
    "In this problem we will generate the data instead of collecting it. This is not uncommon in some applications like physics constrained learning. Sometimes, you already have a predictor but you want to make it faster, so you create a surrogate model using machine learning to make fast predictions.\n",
    "\n",
    "We'll generate 100 data points for a parabolic function $y = x^2$. We'll add some \"measurement noise\" to mimic real-world data and explore the concepts of over- and under-fitting."
   ]
  },
  {
   "cell_type": "code",
   "execution_count": 2,
   "metadata": {},
   "outputs": [],
   "source": [
    "# Generate data\n",
    "noise_strength = 10 \n",
    "x = np.linspace(0, 10, 100)\n",
    "y = x**2 + noise_strength * (np.random.random((len(x)))-0.5)"
   ]
  },
  {
   "cell_type": "markdown",
   "metadata": {},
   "source": [
    "Now we can split the data into training, validation and test sets. The training set is used to optimize the model and find the optimal weights $\\hat{\\mathbf w}$, the validation set is used to test the generalization error while trying different hyperparameters and models, and the test set is finally used to evaluate your final generalization error.\n",
    "\n",
    "The validation set is sometimes called a \"dev\" set."
   ]
  },
  {
   "cell_type": "code",
   "execution_count": 3,
   "metadata": {
    "id": "KmcokpTiO_3D"
   },
   "outputs": [],
   "source": [
    "test_size = 0.2 # Partion of data in test set\n",
    "shuffle = False # Whether to sample anywhere in domain of x or separate training and testing domains\n",
    "\n",
    "# Split data into train/dev/test\n",
    "x_train, x_test, y_train, y_test = train_test_split(x, y, test_size=test_size, shuffle=shuffle)\n",
    "x_train, x_dev, y_train, y_dev = train_test_split(x_train, y_train, test_size=test_size, shuffle=shuffle)\n"
   ]
  },
  {
   "cell_type": "markdown",
   "metadata": {},
   "source": [
    "Note that I'm not shuffling the data to highlight the idea of extrapolation. This is common with time series data where the purpose of a machine learning model is to predict the future. This is illustrated in the visualization below. You'll see how over-fitting doesn't do well on extrapolation."
   ]
  },
  {
   "cell_type": "code",
   "execution_count": 4,
   "metadata": {},
   "outputs": [
    {
     "data": {
      "image/png": "[encoded data removed]",
      "text/plain": [
       "<Figure size 432x288 with 1 Axes>"
      ]
     },
     "metadata": {
      "needs_background": "light"
     },
     "output_type": "display_data"
    }
   ],
   "source": [
    "# Visualize the data\n",
    "fig = plt.figure()\n",
    "plt.plot(x_train, y_train, 'k.')\n",
    "plt.plot(x_dev, y_dev, 'b.')\n",
    "plt.plot(x_test, y_test, 'r.')\n",
    "plt.legend(['train', 'dev', 'test'])\n",
    "plt.ylabel('y')\n",
    "plt.xlabel('x')\n",
    "plt.show()"
   ]
  },
  {
   "cell_type": "markdown",
   "metadata": {},
   "source": [
    "Once you visualize the data try to get an intuition on the trends, you're ready to design your feature vector. We'll define a function that takes the data $x$ as an input and transforms it into a matrix containing polynomial features. The first column is contain the bias because $x^0 = 1$, and the $i+1$-st column will have the data for $x^i$. \n",
    "\n",
    "Let's define that function"
   ]
  },
  {
   "cell_type": "code",
   "execution_count": 5,
   "metadata": {},
   "outputs": [],
   "source": [
    "def make_features(x, degree=1):\n",
    "    X = np.zeros((len(x), degree+1))\n",
    "    for i in range(degree+1):\n",
    "        X[:, i] = x**i\n",
    "    return X"
   ]
  },
  {
   "cell_type": "markdown",
   "metadata": {},
   "source": [
    "Now we're ready to create our input output data. In practice, you'll have to split your data after building the feature matrix, not before (as I did above). We will start with a first order polynomial (i.e. a simple line).\n",
    "\n",
    "To be consistent I will reshape $y$ to be a $ n \\times 1$ dimension vector instead of a $n$ dimensional vector. "
   ]
  },
  {
   "cell_type": "code",
   "execution_count": 6,
   "metadata": {},
   "outputs": [],
   "source": [
    "d = 1\n",
    "\n",
    "X = make_features(x, degree=d)\n",
    "Y = y.reshape(-1, 1)\n",
    "\n",
    "# Split data into train/dev/test\n",
    "X_train, X_test, Y_train, Y_test = train_test_split(X, Y, test_size=test_size, shuffle=shuffle)\n",
    "X_train, X_dev, Y_train, Y_dev = train_test_split(X_train, Y_train, test_size=test_size, shuffle=shuffle)\n"
   ]
  },
  {
   "cell_type": "markdown",
   "metadata": {},
   "source": [
    "Now we're ready to fit the model to the training set! Fortunately, in most cases, if you're interested in applying machine learning to a problem, you don't have to worry about the optimizer. You might need to choose some hyperparameters like the step size or the optimization algorithm but you don't have to write the stochastic gradient descent algorithm from scratch. That would be a waste of time; unless you really enjoy it...\n",
    "\n",
    "Here we will use [schikit-learn](sklearn.org) to do that:"
   ]
  },
  {
   "cell_type": "code",
   "execution_count": 7,
   "metadata": {},
   "outputs": [
    {
     "data": {
      "text/plain": [
       "LinearRegression(fit_intercept=False)"
      ]
     },
     "execution_count": 7,
     "metadata": {},
     "output_type": "execute_result"
    }
   ],
   "source": [
    "reg = LinearRegression(fit_intercept=False)\n",
    "reg.fit(X_train, Y_train)"
   ]
  },
  {
   "cell_type": "markdown",
   "metadata": {},
   "source": [
    "Done! Sklearn ML algorithms include the bias separately by default but we included it in the feature vector. To avoid duplicating the bias feature, we use the argument `fit_intercept=False`.\n",
    "We can now look at the optimal coefficients $\\mathbf w$"
   ]
  },
  {
   "cell_type": "code",
   "execution_count": 8,
   "metadata": {},
   "outputs": [
    {
     "data": {
      "text/plain": [
       "array([[-5.39970632,  6.05139237]])"
      ]
     },
     "execution_count": 8,
     "metadata": {},
     "output_type": "execute_result"
    }
   ],
   "source": [
    "reg.coef_"
   ]
  },
  {
   "cell_type": "markdown",
   "metadata": {},
   "source": [
    "Or to make these coefficients a bit more interpretable, let's write a function that takes the optimal coefficients and returns the polynomial predictor. I'm using the `IPython` module to display the equation in a $\\LaTeX$ format."
   ]
  },
  {
   "cell_type": "code",
   "execution_count": 9,
   "metadata": {},
   "outputs": [
    {
     "data": {
      "text/latex": [
       "$\\displaystyle f_\\mathbf{w}(x) = -5.400+6.051x^1$"
      ],
      "text/plain": [
       "<IPython.core.display.Math object>"
      ]
     },
     "metadata": {},
     "output_type": "display_data"
    }
   ],
   "source": [
    "from IPython.display import display, Math\n",
    "\n",
    "def latexify_predictor(coefs):\n",
    "    s = ['$f_\\mathbf{w}(x) = ']\n",
    "    for i, c in enumerate(coefs):\n",
    "        if abs(c) > 0:\n",
    "            if c > 0 and i > 0:\n",
    "                s.append('+')\n",
    "            s.append('{:.3f}'.format(c))\n",
    "            if i > 0:\n",
    "                s.append('x^{}'.format(i))\n",
    "    s.append('$')\n",
    "    return ''.join(s)\n",
    "\n",
    "display(Math(latexify_predictor(reg.coef_[0])))\n"
   ]
  },
  {
   "cell_type": "markdown",
   "metadata": {},
   "source": [
    "How good is this predictor? Now that we have the optimal model, it's time to test it. Let's define a `get_error` function that takes the input `x`, the output `y`, the predictor object `reg` and the polynomial degree as inputs, and returns the mean squared error. You can see that `reg.predict(X)` returns the prediction of the features `X`. "
   ]
  },
  {
   "cell_type": "code",
   "execution_count": 10,
   "metadata": {},
   "outputs": [],
   "source": [
    "def get_error(x, y, reg, degree):\n",
    "    X = make_features(x, degree=d)\n",
    "    y_pred = reg.predict(X)\n",
    "    mse_val = mean_squared_error(y, y_pred)\n",
    "    return mse_val"
   ]
  },
  {
   "cell_type": "markdown",
   "metadata": {
    "id": "fS8xpC-B4NxQ"
   },
   "source": [
    "We will also use the score (included in the predictor module), defined as\n",
    "\n",
    "$$ R^2 = \\left( 1 - \\frac{\\sum_i (\\hat y_i - y_i)^2}{\\sum_i (y_i - \\langle y \\rangle)^2} \\right)$$\n",
    "\n",
    "where $\\hat y$ is the prediction, $y$ is the true value, $\\langle y \\rangle$ is the average of the true values across the data. For $R^2=1$ you have a perfect predictor, for $R^2=0$, you're just predicting the average of the distribution, and the more negative $R^2$ is, the worse your predictor. Let's see what our predictor and the errors on the validation and training sets look like"
   ]
  },
  {
   "cell_type": "code",
   "execution_count": 11,
   "metadata": {},
   "outputs": [
    {
     "name": "stdout",
     "output_type": "stream",
     "text": [
      "degree = 1\n",
      "\n",
      "\n",
      "validation score = -3.9439\n",
      "train score = 0.8572\n",
      "\n",
      "\n",
      "validation MSE = 239.3548\n",
      "train MSE = 21.2327\n"
     ]
    }
   ],
   "source": [
    "mse_dev = get_error(x_dev, y_dev, reg, d)\n",
    "mse_train = get_error(x_train, y_train, reg, d)\n",
    "\n",
    "score_dev = reg.score(X_dev, Y_dev)\n",
    "score_train = reg.score(X_train, Y_train)\n",
    "\n",
    "# Print the errors\n",
    "print('degree = %d'%(d))\n",
    "print('\\n')\n",
    "print('validation score = %.4f'%( score_dev ))\n",
    "print('train score = %.4f'%( score_train ))\n",
    "print('\\n')\n",
    "print('validation MSE = %.4f'%(mse_dev))\n",
    "print('train MSE = %.4f'%(mse_train))\n"
   ]
  },
  {
   "cell_type": "markdown",
   "metadata": {},
   "source": [
    "Here's what the prediction looks like"
   ]
  },
  {
   "cell_type": "code",
   "execution_count": 12,
   "metadata": {},
   "outputs": [
    {
     "data": {
      "image/png": "[encoded data removed]",
      "text/plain": [
       "<Figure size 432x288 with 1 Axes>"
      ]
     },
     "metadata": {
      "needs_background": "light"
     },
     "output_type": "display_data"
    }
   ],
   "source": [
    "# Define the input to span training and validation sets (excluding test set) - no cheating!\n",
    "x_c = np.linspace(x[0], np.max(x_dev), 100)\n",
    "\n",
    "fig = plt.figure()\n",
    "ax = fig.add_subplot(111)\n",
    "ax.plot(x_c, reg.predict(make_features(x_c, degree=d)), '--')\n",
    "ax.plot(x_train, y_train, '.')\n",
    "ax.plot(x_dev, y_dev, '^', ms=6)\n",
    "ax.plot(x_dev, reg.predict(make_features(x_dev, degree=d)), '.')\n",
    "\n",
    "ax.set_xlabel('x')\n",
    "ax.set_ylabel('y')\n",
    "ax.set_ylim(np.min(y_train), np.max(y_dev))\n",
    "ax.legend(['polynomial fit', 'train data', 'dev data', 'dev prediction'])\n",
    "plt.show()"
   ]
  },
  {
   "cell_type": "markdown",
   "metadata": {},
   "source": [
    "You can see that the error on the training set is much lower than on the validation set. This is normal, but can we do better on the validation set? Are we overfitting or underfitting? \n",
    "\n",
    "Here we're clearly underfitting: the model is too simple. We need to make it a bit more complex. To do that, set $d=2$, and try again. In this case, we know the right answer, but in real-world problems we don't. We'd have to test different inputs $d$ and see which one fits best. That's why automating feature selection and hyperparameter tuning can save you a lot of time. \n",
    "\n",
    "To illustrate this point, I'll define functions for splitting the data into train/dev/test sets and printing their error so we can train the model in a loop over different values of the degree $d$."
   ]
  },
  {
   "cell_type": "code",
   "execution_count": 13,
   "metadata": {},
   "outputs": [],
   "source": [
    "# Split the data\n",
    "def split_data(x, y, test_size=0.2, shuffle=False):\n",
    "    X = make_features(x, degree=d)\n",
    "    Y = y.reshape(-1, 1)\n",
    "\n",
    "    X_train, X_test, Y_train, Y_test = train_test_split(X, Y, test_size=test_size, shuffle=shuffle)\n",
    "    X_train, X_dev, Y_train, Y_dev = train_test_split(X_train, Y_train, test_size=test_size, shuffle=shuffle)\n",
    "    \n",
    "    return X_train, Y_train, X_dev, Y_dev, X_test, Y_test\n",
    "\n",
    "# Plot results\n",
    "def plot_results(x_train, y_train, x_dev, y_dev, reg, d):\n",
    "    x_c = np.linspace(x[0], np.max(x_dev), 100)\n",
    "\n",
    "    fig = plt.figure()\n",
    "    ax = fig.add_subplot(111)\n",
    "    ax.plot(x_c, reg.predict(make_features(x_c, degree=d)), '--')\n",
    "    ax.plot(x_train, y_train, '.')\n",
    "    ax.plot(x_dev, y_dev, '^', ms=6)\n",
    "    ax.plot(x_dev, reg.predict(make_features(x_dev, degree=d)), '.')\n",
    "\n",
    "    ax.set_xlabel('x')\n",
    "    ax.set_ylabel('y')\n",
    "    ax.set_ylim(np.min(y_train), np.max(y_dev))\n",
    "    ax.legend(['polynomial fit', 'train data', 'dev data', 'dev prediction'])\n",
    "    plt.show()\n"
   ]
  },
  {
   "cell_type": "markdown",
   "metadata": {},
   "source": [
    "Now we can loop over different values of $d$, pick the best predictor and finally test it on the test set. This is a good illustration of the whole machine learning process.\n",
    "\n",
    "In practice, you might have to store your trained models (usually on a local drive) because most real-world machine algorithms take a lot of time to train. You don't want to be training the same model multiple times. In this case, the models and data are small so we can afford to simply save them in a list. "
   ]
  },
  {
   "cell_type": "code",
   "execution_count": 14,
   "metadata": {},
   "outputs": [
    {
     "name": "stdout",
     "output_type": "stream",
     "text": [
      "\n",
      "degree = 1\n",
      "validation score = -3.9439\n",
      "train score = 0.8572\n",
      "validation MSE = 239.3548\n",
      "train MSE = 21.2327\n"
     ]
    },
    {
     "data": {
      "text/latex": [
       "$\\displaystyle f_\\mathbf{w}(x) = -5.400+6.051x^1$"
      ],
      "text/plain": [
       "<IPython.core.display.Math object>"
      ]
     },
     "metadata": {},
     "output_type": "display_data"
    },
    {
     "data": {
      "image/png": "[encoded data removed]",
      "text/plain": [
       "<Figure size 432x288 with 1 Axes>"
      ]
     },
     "metadata": {
      "needs_background": "light"
     },
     "output_type": "display_data"
    },
    {
     "name": "stdout",
     "output_type": "stream",
     "text": [
      "\n",
      "degree = 2\n",
      "validation score = 0.8524\n",
      "train score = 0.9421\n",
      "validation MSE = 7.1461\n",
      "train MSE = 8.6049\n"
     ]
    },
    {
     "data": {
      "text/latex": [
       "$\\displaystyle f_\\mathbf{w}(x) = 2.182-1.213x^1+1.141x^2$"
      ],
      "text/plain": [
       "<IPython.core.display.Math object>"
      ]
     },
     "metadata": {},
     "output_type": "display_data"
    },
    {
     "data": {
      "image/png": "[encoded data removed]",
      "text/plain": [
       "<Figure size 432x288 with 1 Axes>"
      ]
     },
     "metadata": {
      "needs_background": "light"
     },
     "output_type": "display_data"
    },
    {
     "name": "stdout",
     "output_type": "stream",
     "text": [
      "\n",
      "degree = 3\n",
      "validation score = 0.5591\n",
      "train score = 0.9435\n",
      "validation MSE = 21.3457\n",
      "train MSE = 8.4030\n"
     ]
    },
    {
     "data": {
      "text/latex": [
       "$\\displaystyle f_\\mathbf{w}(x) = 3.265-3.338x^1+1.983x^2-0.088x^3$"
      ],
      "text/plain": [
       "<IPython.core.display.Math object>"
      ]
     },
     "metadata": {},
     "output_type": "display_data"
    },
    {
     "data": {
      "image/png": "[encoded data removed]",
      "text/plain": [
       "<Figure size 432x288 with 1 Axes>"
      ]
     },
     "metadata": {
      "needs_background": "light"
     },
     "output_type": "display_data"
    },
    {
     "name": "stdout",
     "output_type": "stream",
     "text": [
      "\n",
      "degree = 6\n",
      "validation score = -1.0592\n",
      "train score = 0.9450\n",
      "validation MSE = 99.6940\n",
      "train MSE = 8.1759\n"
     ]
    },
    {
     "data": {
      "text/latex": [
       "$\\displaystyle f_\\mathbf{w}(x) = 4.341-6.731x^1+4.156x^2-0.500x^3+0.008x^4+0.002x^5+0.000x^6$"
      ],
      "text/plain": [
       "<IPython.core.display.Math object>"
      ]
     },
     "metadata": {},
     "output_type": "display_data"
    },
    {
     "data": {
      "image/png": "[encoded data removed]",
      "text/plain": [
       "<Figure size 432x288 with 1 Axes>"
      ]
     },
     "metadata": {
      "needs_background": "light"
     },
     "output_type": "display_data"
    }
   ],
   "source": [
    "degree_list = [1, 2, 3, 6]\n",
    "\n",
    "reg_list = []\n",
    "mse_dev_list = []\n",
    "score_dev_list = []\n",
    "\n",
    "for d in degree_list:\n",
    "    \n",
    "    # Split data\n",
    "    X_train, Y_train, X_dev, Y_dev, X_test, Y_test = split_data(x, y)\n",
    "    \n",
    "    # Fit model\n",
    "    reg = LinearRegression(fit_intercept=False)\n",
    "    reg.fit(X_train, Y_train)\n",
    "    \n",
    "    # Compute errors\n",
    "    mse_dev = get_error(x_dev, y_dev, reg, d)\n",
    "    mse_train = get_error(x_train, y_train, reg, d)\n",
    "    score_dev = reg.score(X_dev, Y_dev)\n",
    "    score_train = reg.score(X_train, Y_train)\n",
    "\n",
    "    # Print the errors\n",
    "    print('\\ndegree = %d'%(d))\n",
    "    print('validation score = %.4f'%( score_dev ))\n",
    "    print('train score = %.4f'%( score_train ))\n",
    "    print('validation MSE = %.4f'%(mse_dev))\n",
    "    print('train MSE = %.4f'%(mse_train))\n",
    "    \n",
    "    # Print model\n",
    "    display(Math(latexify_predictor(reg.coef_[0])))\n",
    "    \n",
    "    # Plot results\n",
    "    plot_results(x_train, y_train, x_dev, y_dev, reg, d)\n",
    "    \n",
    "    # Store results\n",
    "    reg_list.append(reg)\n",
    "    mse_dev_list.append(mse_dev)\n",
    "    score_dev_list.append(score_dev)\n",
    "    "
   ]
  },
  {
   "cell_type": "code",
   "execution_count": 15,
   "metadata": {},
   "outputs": [
    {
     "name": "stdout",
     "output_type": "stream",
     "text": [
      "best predictor has degree (drum roll)...  2 !\n"
     ]
    }
   ],
   "source": [
    "# Let's see who wins!\n",
    "best_degree = degree_list[np.argmax(score_dev_list)]\n",
    "print('best predictor has degree (drum roll)... ', best_degree, '!')"
   ]
  },
  {
   "cell_type": "markdown",
   "metadata": {
    "id": "qxSgKRbtQefw"
   },
   "source": [
    "Clearly, the 6th degree polynomial is over-fitting and the first degree polynomial is under-fitting. But with a large noise magnitude and so little data, it's not clear whether a second order or third order polnomial will do better. When I run the model, sometimes it prefers the polynomial of degree $3$. Conclusion: there's no guarantee that we can even recover the model we used to generate the data! That's a sobering lesson to learn from this example. Machine learning algorithms in general do not always discover the underlying pattern. This is a good analogy to think about even for more complex machine learning models like deep networks.\n",
    "\n",
    "Before we test our model on the test set, is there something else we can try? Can we do a better job to recover the quadratic model we used to generate the data? Of course! This is where regularization comes in.\n",
    "\n",
    "Linear predictors are great but they'd be even greater if there is a way we can get them to minimize over-fitting and generalize over the validation set without trying all possible polynomial degrees. To achieve that, we minimize the norm of $\\mathbf w$ (by adding it to the original square loss). The $L_1$ norm, $|\\mathbf w|$, makes the predictor more sparse (sets small coefficients in the polynomial to zero), while the $L_2$ norm $\\| \\mathbf  w\\|$ makes the predictor less \"wiggly\" or smoother. Adding a loss term that minimizes the norm is called regularization.\n",
    "\n",
    "Let's check out what the $L_1$ norm does. In scikit-learn, the function that does that is `Lasso`, and you can find more details about it [here](https://sklearn.org/modules/generated/sklearn.linear_model.Lasso.html#sklearn.linear_model.Lasso). The syntax is exactly the same as before but replacing `LinearRegression` with `Lasso`"
   ]
  },
  {
   "cell_type": "code",
   "execution_count": 16,
   "metadata": {
    "id": "YAMk4z4bUVM5"
   },
   "outputs": [
    {
     "name": "stdout",
     "output_type": "stream",
     "text": [
      "\n",
      "degree = 2\n",
      "validation score = 0.8298\n",
      "train score = 0.9382\n",
      "validation MSE = 8.2384\n",
      "train MSE = 9.1895\n"
     ]
    },
    {
     "data": {
      "text/latex": [
       "$\\displaystyle f_\\mathbf{w}(x) = +0.991x^2$"
      ],
      "text/plain": [
       "<IPython.core.display.Math object>"
      ]
     },
     "metadata": {},
     "output_type": "display_data"
    },
    {
     "data": {
      "image/png": "[encoded data removed]",
      "text/plain": [
       "<Figure size 432x288 with 1 Axes>"
      ]
     },
     "metadata": {
      "needs_background": "light"
     },
     "output_type": "display_data"
    }
   ],
   "source": [
    "from sklearn.linear_model import Lasso\n",
    "\n",
    "d = 2\n",
    "\n",
    "# Split data\n",
    "X_train, Y_train, X_dev, Y_dev, X_test, Y_test = split_data(x, y)\n",
    "\n",
    "# Fit model\n",
    "reg = Lasso(fit_intercept=False)\n",
    "reg.fit(X_train, Y_train)\n",
    "\n",
    "# Compute errors\n",
    "mse_dev = get_error(x_dev, y_dev, reg, d)\n",
    "mse_train = get_error(x_train, y_train, reg, d)\n",
    "score_dev = reg.score(X_dev, Y_dev)\n",
    "score_train = reg.score(X_train, Y_train)\n",
    "\n",
    "# Print the errors\n",
    "print('\\ndegree = %d'%(d))\n",
    "print('validation score = %.4f'%( score_dev ))\n",
    "print('train score = %.4f'%( score_train ))\n",
    "print('validation MSE = %.4f'%(mse_dev))\n",
    "print('train MSE = %.4f'%(mse_train))\n",
    "\n",
    "# Print model\n",
    "display(Math(latexify_predictor(reg.coef_)))\n",
    "\n",
    "# Plot results\n",
    "plot_results(x_train, y_train, x_dev, y_dev, reg, d)"
   ]
  },
  {
   "cell_type": "markdown",
   "metadata": {},
   "source": [
    "Beautiful! Lasso recovered our model almost perfectly. The motivation for using sparse regularization is Occam's razor: the simplest explanation is usually the right one. The algorithm found that it only needs one term to fit the data, so it set the other terms to zero. This is the power of adding the norm $|\\mathbf w|$ to the loss. There's something I ignored when I use Lasso: how of the $L_1$ norm to include. You will see in the documentation that it is set to $1.0$ by default, but in my experience, you'll want to include much less than that to avoid making the model too simple. That's a hyperparameter that you can also loop over and see what works best for your model.\n",
    "\n",
    "Finally, we can test our model on the test set:"
   ]
  },
  {
   "cell_type": "code",
   "execution_count": 17,
   "metadata": {},
   "outputs": [
    {
     "name": "stdout",
     "output_type": "stream",
     "text": [
      "\n",
      "degree = 2\n",
      "validation score = 0.8298\n",
      "train score = 0.9382\n",
      "validation MSE = 8.2384\n",
      "train MSE = 9.1895\n"
     ]
    },
    {
     "data": {
      "image/png": "[encoded data removed]",
      "text/plain": [
       "<Figure size 432x288 with 1 Axes>"
      ]
     },
     "metadata": {
      "needs_background": "light"
     },
     "output_type": "display_data"
    }
   ],
   "source": [
    "# Print the errors\n",
    "print('\\ndegree = %d'%(d))\n",
    "print('validation score = %.4f'%( score_dev ))\n",
    "print('train score = %.4f'%( score_train ))\n",
    "print('validation MSE = %.4f'%(mse_dev))\n",
    "print('train MSE = %.4f'%(mse_train))\n",
    "\n",
    "fig = plt.figure()\n",
    "ax = fig.add_subplot(111)\n",
    "ax.plot(x, reg.predict(make_features(x, degree=d)), '--')\n",
    "ax.plot(x_train, y_train, '.')\n",
    "ax.plot(x_dev, y_dev, '^', ms=6)\n",
    "ax.plot(x_dev, reg.predict(make_features(x_dev, degree=d)), '.')\n",
    "ax.plot(x_test, y_test, '*', ms=6)\n",
    "ax.plot(x_test, reg.predict(make_features(x_test, degree=d)), '.')\n",
    "\n",
    "ax.set_xlabel('x')\n",
    "ax.set_ylabel('y')\n",
    "ax.legend(['polynomial fit', 'train data', 'dev data', 'dev prediction', 'test data', 'test prediction'])\n",
    "plt.show()"
   ]
  },
  {
   "cell_type": "markdown",
   "metadata": {},
   "source": [
    "Adding regularization will also prevent higher order polynomials from over-fitting. Lasso might get rid of all other features except the one you need! This is a teaser. Download the code and try it out yourself.\n",
    "\n",
    "One way of improving your predictions is to add more data. If you go back and set the data input to a 1000, you'll see that your results will be much better. The higher dimensional your feature vector, the more data you need. This is particularly the case with neural networks: those beasts are always data-hungry!"
   ]
  },
  {
   "cell_type": "code",
   "execution_count": 19,
   "metadata": {},
   "outputs": [],
   "source": [
    "import tensorflow as tf\n",
    "from tensorflow.keras import layers"
   ]
  },
  {
   "cell_type": "code",
   "execution_count": 37,
   "metadata": {},
   "outputs": [],
   "source": [
    "# Generate data\n",
    "noise_strength = 10 \n",
    "x = np.linspace(0, 10, 100000)\n",
    "y = x**2 + noise_strength * (np.random.random((len(x)))-0.5)"
   ]
  },
  {
   "cell_type": "code",
   "execution_count": 38,
   "metadata": {
    "id": "KmcokpTiO_3D"
   },
   "outputs": [],
   "source": [
    "test_size = 0.2 # Partion of data in test set\n",
    "shuffle = False # Whether to sample anywhere in domain of x or separate training and testing domains\n",
    "\n",
    "# Split data into train/dev/test\n",
    "x_train, x_test, y_train, y_test = train_test_split(x, y, test_size=test_size, shuffle=shuffle)\n",
    "x_train, x_dev, y_train, y_dev = train_test_split(x_train, y_train, test_size=test_size, shuffle=shuffle)\n"
   ]
  },
  {
   "cell_type": "code",
   "execution_count": 46,
   "metadata": {},
   "outputs": [
    {
     "name": "stdout",
     "output_type": "stream",
     "text": [
      "Epoch 1/100\n",
      "2000/2000 [==============================] - 3s 1ms/step - loss: 89.1125 - val_loss: 48.3444\n",
      "Epoch 2/100\n",
      "2000/2000 [==============================] - 2s 865us/step - loss: 9.0149 - val_loss: 31.4643\n",
      "Epoch 3/100\n",
      "2000/2000 [==============================] - 2s 918us/step - loss: 8.8921 - val_loss: 29.5734\n",
      "Epoch 4/100\n",
      "2000/2000 [==============================] - 2s 854us/step - loss: 8.9448 - val_loss: 24.0171\n",
      "Epoch 5/100\n",
      "2000/2000 [==============================] - 2s 1ms/step - loss: 8.8264 - val_loss: 25.8060\n",
      "Epoch 6/100\n",
      "2000/2000 [==============================] - 2s 930us/step - loss: 8.8557 - val_loss: 23.7008\n",
      "Epoch 7/100\n",
      "2000/2000 [==============================] - 2s 1ms/step - loss: 8.8540 - val_loss: 28.4542\n",
      "Epoch 8/100\n",
      "2000/2000 [==============================] - 2s 928us/step - loss: 8.8380 - val_loss: 22.1675\n",
      "Epoch 9/100\n",
      "2000/2000 [==============================] - 2s 991us/step - loss: 8.7595 - val_loss: 22.7369\n",
      "Epoch 10/100\n",
      "2000/2000 [==============================] - 2s 887us/step - loss: 8.8774 - val_loss: 23.3397\n",
      "Epoch 11/100\n",
      "2000/2000 [==============================] - 2s 996us/step - loss: 8.8222 - val_loss: 28.2812\n",
      "Epoch 12/100\n",
      "2000/2000 [==============================] - 2s 842us/step - loss: 8.7919 - val_loss: 30.7654\n",
      "Epoch 13/100\n",
      "2000/2000 [==============================] - 2s 1ms/step - loss: 8.8587 - val_loss: 21.6652\n",
      "Epoch 14/100\n",
      "2000/2000 [==============================] - 2s 868us/step - loss: 8.8030 - val_loss: 27.5693\n",
      "Epoch 15/100\n",
      "2000/2000 [==============================] - 2s 924us/step - loss: 8.8183 - val_loss: 18.0459\n",
      "Epoch 16/100\n",
      "2000/2000 [==============================] - 2s 980us/step - loss: 8.7685 - val_loss: 19.2876\n",
      "Epoch 17/100\n",
      "2000/2000 [==============================] - 2s 1ms/step - loss: 8.8014 - val_loss: 22.2115\n",
      "Epoch 18/100\n",
      "2000/2000 [==============================] - 2s 942us/step - loss: 8.7988 - val_loss: 18.9919\n",
      "Epoch 19/100\n",
      "2000/2000 [==============================] - 2s 861us/step - loss: 8.8302 - val_loss: 24.7351\n",
      "Epoch 20/100\n",
      "2000/2000 [==============================] - 2s 1ms/step - loss: 8.8150 - val_loss: 26.5925\n",
      "Epoch 21/100\n",
      "2000/2000 [==============================] - 2s 1ms/step - loss: 8.7955 - val_loss: 21.0703\n",
      "Epoch 22/100\n",
      "2000/2000 [==============================] - 2s 1ms/step - loss: 8.7711 - val_loss: 23.5299\n",
      "Epoch 23/100\n",
      "2000/2000 [==============================] - 2s 1ms/step - loss: 8.7948 - val_loss: 18.2474\n",
      "Epoch 24/100\n",
      "2000/2000 [==============================] - 2s 1ms/step - loss: 8.7600 - val_loss: 17.4694\n",
      "Epoch 25/100\n",
      "2000/2000 [==============================] - 2s 969us/step - loss: 8.7576 - val_loss: 15.4154\n",
      "Epoch 26/100\n",
      "2000/2000 [==============================] - 2s 1ms/step - loss: 8.7959 - val_loss: 17.8476\n",
      "Epoch 27/100\n",
      "2000/2000 [==============================] - 2s 996us/step - loss: 8.8074 - val_loss: 18.6805\n",
      "Epoch 28/100\n",
      "2000/2000 [==============================] - 2s 1ms/step - loss: 8.8047 - val_loss: 21.5760\n",
      "Epoch 29/100\n",
      "2000/2000 [==============================] - 2s 1ms/step - loss: 8.7992 - val_loss: 20.1009\n",
      "Epoch 30/100\n",
      "2000/2000 [==============================] - 2s 943us/step - loss: 8.8096 - val_loss: 18.9954\n",
      "Epoch 31/100\n",
      "2000/2000 [==============================] - 2s 999us/step - loss: 8.7798 - val_loss: 18.9259\n",
      "Epoch 32/100\n",
      "2000/2000 [==============================] - 2s 1ms/step - loss: 8.7595 - val_loss: 16.3316\n",
      "Epoch 33/100\n",
      "2000/2000 [==============================] - 2s 937us/step - loss: 8.7635 - val_loss: 27.7761\n",
      "Epoch 34/100\n",
      "2000/2000 [==============================] - 2s 907us/step - loss: 8.7111 - val_loss: 14.4366\n",
      "Epoch 35/100\n",
      "2000/2000 [==============================] - 2s 865us/step - loss: 8.7675 - val_loss: 16.6576\n",
      "Epoch 36/100\n",
      "2000/2000 [==============================] - 2s 940us/step - loss: 8.8164 - val_loss: 18.2138\n",
      "Epoch 37/100\n",
      "2000/2000 [==============================] - 2s 882us/step - loss: 8.7770 - val_loss: 19.5501\n",
      "Epoch 38/100\n",
      "2000/2000 [==============================] - 2s 992us/step - loss: 8.7035 - val_loss: 19.1911\n",
      "Epoch 39/100\n",
      "2000/2000 [==============================] - 2s 944us/step - loss: 8.7637 - val_loss: 18.1695\n",
      "Epoch 40/100\n",
      " 522/2000 [======>.......................] - ETA: 1s - loss: 8.8024"
     ]
    },
    {
     "ename": "KeyboardInterrupt",
     "evalue": "",
     "output_type": "error",
     "traceback": [
      "\u001b[0;31m---------------------------------------------------------------------------\u001b[0m",
      "\u001b[0;31mKeyboardInterrupt\u001b[0m                         Traceback (most recent call last)",
      "\u001b[0;32m<ipython-input-46-ef0e684aaaab>\u001b[0m in \u001b[0;36m<module>\u001b[0;34m\u001b[0m\n\u001b[1;32m      7\u001b[0m \u001b[0;34m\u001b[0m\u001b[0m\n\u001b[1;32m      8\u001b[0m \u001b[0mmodel\u001b[0m\u001b[0;34m.\u001b[0m\u001b[0mcompile\u001b[0m\u001b[0;34m(\u001b[0m\u001b[0moptimizer\u001b[0m\u001b[0;34m=\u001b[0m\u001b[0;34m'adam'\u001b[0m\u001b[0;34m,\u001b[0m \u001b[0mloss\u001b[0m\u001b[0;34m=\u001b[0m\u001b[0;34m'mse'\u001b[0m\u001b[0;34m)\u001b[0m\u001b[0;34m\u001b[0m\u001b[0;34m\u001b[0m\u001b[0m\n\u001b[0;32m----> 9\u001b[0;31m model.fit(x_train, y_train,\n\u001b[0m\u001b[1;32m     10\u001b[0m           \u001b[0mbatch_size\u001b[0m\u001b[0;34m=\u001b[0m\u001b[0;36m32\u001b[0m\u001b[0;34m,\u001b[0m\u001b[0;34m\u001b[0m\u001b[0;34m\u001b[0m\u001b[0m\n\u001b[1;32m     11\u001b[0m           \u001b[0mepochs\u001b[0m\u001b[0;34m=\u001b[0m\u001b[0;36m100\u001b[0m\u001b[0;34m,\u001b[0m\u001b[0;34m\u001b[0m\u001b[0;34m\u001b[0m\u001b[0m\n",
      "\u001b[0;32m~/anaconda3/lib/python3.8/site-packages/tensorflow/python/keras/engine/training.py\u001b[0m in \u001b[0;36mfit\u001b[0;34m(self, x, y, batch_size, epochs, verbose, callbacks, validation_split, validation_data, shuffle, class_weight, sample_weight, initial_epoch, steps_per_epoch, validation_steps, validation_batch_size, validation_freq, max_queue_size, workers, use_multiprocessing)\u001b[0m\n\u001b[1;32m   1098\u001b[0m                 _r=1):\n\u001b[1;32m   1099\u001b[0m               \u001b[0mcallbacks\u001b[0m\u001b[0;34m.\u001b[0m\u001b[0mon_train_batch_begin\u001b[0m\u001b[0;34m(\u001b[0m\u001b[0mstep\u001b[0m\u001b[0;34m)\u001b[0m\u001b[0;34m\u001b[0m\u001b[0;34m\u001b[0m\u001b[0m\n\u001b[0;32m-> 1100\u001b[0;31m               \u001b[0mtmp_logs\u001b[0m \u001b[0;34m=\u001b[0m \u001b[0mself\u001b[0m\u001b[0;34m.\u001b[0m\u001b[0mtrain_function\u001b[0m\u001b[0;34m(\u001b[0m\u001b[0miterator\u001b[0m\u001b[0;34m)\u001b[0m\u001b[0;34m\u001b[0m\u001b[0;34m\u001b[0m\u001b[0m\n\u001b[0m\u001b[1;32m   1101\u001b[0m               \u001b[0;32mif\u001b[0m \u001b[0mdata_handler\u001b[0m\u001b[0;34m.\u001b[0m\u001b[0mshould_sync\u001b[0m\u001b[0;34m:\u001b[0m\u001b[0;34m\u001b[0m\u001b[0;34m\u001b[0m\u001b[0m\n\u001b[1;32m   1102\u001b[0m                 \u001b[0mcontext\u001b[0m\u001b[0;34m.\u001b[0m\u001b[0masync_wait\u001b[0m\u001b[0;34m(\u001b[0m\u001b[0;34m)\u001b[0m\u001b[0;34m\u001b[0m\u001b[0;34m\u001b[0m\u001b[0m\n",
      "\u001b[0;32m~/anaconda3/lib/python3.8/site-packages/tensorflow/python/eager/def_function.py\u001b[0m in \u001b[0;36m__call__\u001b[0;34m(self, *args, **kwds)\u001b[0m\n\u001b[1;32m    826\u001b[0m     \u001b[0mtracing_count\u001b[0m \u001b[0;34m=\u001b[0m \u001b[0mself\u001b[0m\u001b[0;34m.\u001b[0m\u001b[0mexperimental_get_tracing_count\u001b[0m\u001b[0;34m(\u001b[0m\u001b[0;34m)\u001b[0m\u001b[0;34m\u001b[0m\u001b[0;34m\u001b[0m\u001b[0m\n\u001b[1;32m    827\u001b[0m     \u001b[0;32mwith\u001b[0m \u001b[0mtrace\u001b[0m\u001b[0;34m.\u001b[0m\u001b[0mTrace\u001b[0m\u001b[0;34m(\u001b[0m\u001b[0mself\u001b[0m\u001b[0;34m.\u001b[0m\u001b[0m_name\u001b[0m\u001b[0;34m)\u001b[0m \u001b[0;32mas\u001b[0m \u001b[0mtm\u001b[0m\u001b[0;34m:\u001b[0m\u001b[0;34m\u001b[0m\u001b[0;34m\u001b[0m\u001b[0m\n\u001b[0;32m--> 828\u001b[0;31m       \u001b[0mresult\u001b[0m \u001b[0;34m=\u001b[0m \u001b[0mself\u001b[0m\u001b[0;34m.\u001b[0m\u001b[0m_call\u001b[0m\u001b[0;34m(\u001b[0m\u001b[0;34m*\u001b[0m\u001b[0margs\u001b[0m\u001b[0;34m,\u001b[0m \u001b[0;34m**\u001b[0m\u001b[0mkwds\u001b[0m\u001b[0;34m)\u001b[0m\u001b[0;34m\u001b[0m\u001b[0;34m\u001b[0m\u001b[0m\n\u001b[0m\u001b[1;32m    829\u001b[0m       \u001b[0mcompiler\u001b[0m \u001b[0;34m=\u001b[0m \u001b[0;34m\"xla\"\u001b[0m \u001b[0;32mif\u001b[0m \u001b[0mself\u001b[0m\u001b[0;34m.\u001b[0m\u001b[0m_experimental_compile\u001b[0m \u001b[0;32melse\u001b[0m \u001b[0;34m\"nonXla\"\u001b[0m\u001b[0;34m\u001b[0m\u001b[0;34m\u001b[0m\u001b[0m\n\u001b[1;32m    830\u001b[0m       \u001b[0mnew_tracing_count\u001b[0m \u001b[0;34m=\u001b[0m \u001b[0mself\u001b[0m\u001b[0;34m.\u001b[0m\u001b[0mexperimental_get_tracing_count\u001b[0m\u001b[0;34m(\u001b[0m\u001b[0;34m)\u001b[0m\u001b[0;34m\u001b[0m\u001b[0;34m\u001b[0m\u001b[0m\n",
      "\u001b[0;32m~/anaconda3/lib/python3.8/site-packages/tensorflow/python/eager/def_function.py\u001b[0m in \u001b[0;36m_call\u001b[0;34m(self, *args, **kwds)\u001b[0m\n\u001b[1;32m    853\u001b[0m       \u001b[0;31m# In this case we have created variables on the first call, so we run the\u001b[0m\u001b[0;34m\u001b[0m\u001b[0;34m\u001b[0m\u001b[0;34m\u001b[0m\u001b[0m\n\u001b[1;32m    854\u001b[0m       \u001b[0;31m# defunned version which is guaranteed to never create variables.\u001b[0m\u001b[0;34m\u001b[0m\u001b[0;34m\u001b[0m\u001b[0;34m\u001b[0m\u001b[0m\n\u001b[0;32m--> 855\u001b[0;31m       \u001b[0;32mreturn\u001b[0m \u001b[0mself\u001b[0m\u001b[0;34m.\u001b[0m\u001b[0m_stateless_fn\u001b[0m\u001b[0;34m(\u001b[0m\u001b[0;34m*\u001b[0m\u001b[0margs\u001b[0m\u001b[0;34m,\u001b[0m \u001b[0;34m**\u001b[0m\u001b[0mkwds\u001b[0m\u001b[0;34m)\u001b[0m  \u001b[0;31m# pylint: disable=not-callable\u001b[0m\u001b[0;34m\u001b[0m\u001b[0;34m\u001b[0m\u001b[0m\n\u001b[0m\u001b[1;32m    856\u001b[0m     \u001b[0;32melif\u001b[0m \u001b[0mself\u001b[0m\u001b[0;34m.\u001b[0m\u001b[0m_stateful_fn\u001b[0m \u001b[0;32mis\u001b[0m \u001b[0;32mnot\u001b[0m \u001b[0;32mNone\u001b[0m\u001b[0;34m:\u001b[0m\u001b[0;34m\u001b[0m\u001b[0;34m\u001b[0m\u001b[0m\n\u001b[1;32m    857\u001b[0m       \u001b[0;31m# Release the lock early so that multiple threads can perform the call\u001b[0m\u001b[0;34m\u001b[0m\u001b[0;34m\u001b[0m\u001b[0;34m\u001b[0m\u001b[0m\n",
      "\u001b[0;32m~/anaconda3/lib/python3.8/site-packages/tensorflow/python/eager/function.py\u001b[0m in \u001b[0;36m__call__\u001b[0;34m(self, *args, **kwargs)\u001b[0m\n\u001b[1;32m   2940\u001b[0m       (graph_function,\n\u001b[1;32m   2941\u001b[0m        filtered_flat_args) = self._maybe_define_function(args, kwargs)\n\u001b[0;32m-> 2942\u001b[0;31m     return graph_function._call_flat(\n\u001b[0m\u001b[1;32m   2943\u001b[0m         filtered_flat_args, captured_inputs=graph_function.captured_inputs)  # pylint: disable=protected-access\n\u001b[1;32m   2944\u001b[0m \u001b[0;34m\u001b[0m\u001b[0m\n",
      "\u001b[0;32m~/anaconda3/lib/python3.8/site-packages/tensorflow/python/eager/function.py\u001b[0m in \u001b[0;36m_call_flat\u001b[0;34m(self, args, captured_inputs, cancellation_manager)\u001b[0m\n\u001b[1;32m   1916\u001b[0m         and executing_eagerly):\n\u001b[1;32m   1917\u001b[0m       \u001b[0;31m# No tape is watching; skip to running the function.\u001b[0m\u001b[0;34m\u001b[0m\u001b[0;34m\u001b[0m\u001b[0;34m\u001b[0m\u001b[0m\n\u001b[0;32m-> 1918\u001b[0;31m       return self._build_call_outputs(self._inference_function.call(\n\u001b[0m\u001b[1;32m   1919\u001b[0m           ctx, args, cancellation_manager=cancellation_manager))\n\u001b[1;32m   1920\u001b[0m     forward_backward = self._select_forward_and_backward_functions(\n",
      "\u001b[0;32m~/anaconda3/lib/python3.8/site-packages/tensorflow/python/eager/function.py\u001b[0m in \u001b[0;36mcall\u001b[0;34m(self, ctx, args, cancellation_manager)\u001b[0m\n\u001b[1;32m    553\u001b[0m       \u001b[0;32mwith\u001b[0m \u001b[0m_InterpolateFunctionError\u001b[0m\u001b[0;34m(\u001b[0m\u001b[0mself\u001b[0m\u001b[0;34m)\u001b[0m\u001b[0;34m:\u001b[0m\u001b[0;34m\u001b[0m\u001b[0;34m\u001b[0m\u001b[0m\n\u001b[1;32m    554\u001b[0m         \u001b[0;32mif\u001b[0m \u001b[0mcancellation_manager\u001b[0m \u001b[0;32mis\u001b[0m \u001b[0;32mNone\u001b[0m\u001b[0;34m:\u001b[0m\u001b[0;34m\u001b[0m\u001b[0;34m\u001b[0m\u001b[0m\n\u001b[0;32m--> 555\u001b[0;31m           outputs = execute.execute(\n\u001b[0m\u001b[1;32m    556\u001b[0m               \u001b[0mstr\u001b[0m\u001b[0;34m(\u001b[0m\u001b[0mself\u001b[0m\u001b[0;34m.\u001b[0m\u001b[0msignature\u001b[0m\u001b[0;34m.\u001b[0m\u001b[0mname\u001b[0m\u001b[0;34m)\u001b[0m\u001b[0;34m,\u001b[0m\u001b[0;34m\u001b[0m\u001b[0;34m\u001b[0m\u001b[0m\n\u001b[1;32m    557\u001b[0m               \u001b[0mnum_outputs\u001b[0m\u001b[0;34m=\u001b[0m\u001b[0mself\u001b[0m\u001b[0;34m.\u001b[0m\u001b[0m_num_outputs\u001b[0m\u001b[0;34m,\u001b[0m\u001b[0;34m\u001b[0m\u001b[0;34m\u001b[0m\u001b[0m\n",
      "\u001b[0;32m~/anaconda3/lib/python3.8/site-packages/tensorflow/python/eager/execute.py\u001b[0m in \u001b[0;36mquick_execute\u001b[0;34m(op_name, num_outputs, inputs, attrs, ctx, name)\u001b[0m\n\u001b[1;32m     57\u001b[0m   \u001b[0;32mtry\u001b[0m\u001b[0;34m:\u001b[0m\u001b[0;34m\u001b[0m\u001b[0;34m\u001b[0m\u001b[0m\n\u001b[1;32m     58\u001b[0m     \u001b[0mctx\u001b[0m\u001b[0;34m.\u001b[0m\u001b[0mensure_initialized\u001b[0m\u001b[0;34m(\u001b[0m\u001b[0;34m)\u001b[0m\u001b[0;34m\u001b[0m\u001b[0;34m\u001b[0m\u001b[0m\n\u001b[0;32m---> 59\u001b[0;31m     tensors = pywrap_tfe.TFE_Py_Execute(ctx._handle, device_name, op_name,\n\u001b[0m\u001b[1;32m     60\u001b[0m                                         inputs, attrs, num_outputs)\n\u001b[1;32m     61\u001b[0m   \u001b[0;32mexcept\u001b[0m \u001b[0mcore\u001b[0m\u001b[0;34m.\u001b[0m\u001b[0m_NotOkStatusException\u001b[0m \u001b[0;32mas\u001b[0m \u001b[0me\u001b[0m\u001b[0;34m:\u001b[0m\u001b[0;34m\u001b[0m\u001b[0;34m\u001b[0m\u001b[0m\n",
      "\u001b[0;31mKeyboardInterrupt\u001b[0m: "
     ]
    }
   ],
   "source": [
    "l2reg = 0.001\n",
    "model = tf.keras.models.Sequential()\n",
    "model.add(layers.Dense(10, activation='elu', activity_regularizer=tf.keras.regularizers.L2(l2reg)))\n",
    "model.add(layers.Dense(10, activation='elu', activity_regularizer=tf.keras.regularizers.L2(l2reg)))\n",
    "model.add(layers.Dense(10, activation='elu', activity_regularizer=tf.keras.regularizers.L2(l2reg)))\n",
    "model.add(layers.Dense(1, activation='linear', activity_regularizer=tf.keras.regularizers.L2(l2reg)))\n",
    "\n",
    "model.compile(optimizer='adam', loss='mse')\n",
    "history = model.fit(x_train, y_train,\n",
    "          batch_size=32,\n",
    "          epochs=100,\n",
    "          validation_data=(x_dev, y_dev),\n",
    "          callbacks=tf.keras.callbacks.EarlyStopping(patience=5))\n"
   ]
  },
  {
   "cell_type": "code",
   "execution_count": 51,
   "metadata": {},
   "outputs": [
    {
     "data": {
      "image/png": "[encoded data removed]",
      "text/plain": [
       "<Figure size 432x288 with 1 Axes>"
      ]
     },
     "metadata": {
      "needs_background": "light"
     },
     "output_type": "display_data"
    }
   ],
   "source": [
    "\n",
    "y_pred = model.predict(x_test)\n",
    "\n",
    "fig = plt.figure()\n",
    "plt.plot(x, y, '.', ms=.1)\n",
    "plt.plot(x_train, model.predict(x_train), label='train')\n",
    "plt.plot(x_dev, model.predict(x_dev), label='validation')\n",
    "plt.plot(x_test, model.predict(x_test), label='test')\n",
    "plt.legend()\n",
    "plt.show()"
   ]
  },
  {
   "cell_type": "code",
   "execution_count": 48,
   "metadata": {},
   "outputs": [
    {
     "name": "stdout",
     "output_type": "stream",
     "text": [
      "import numpy as np\n",
      "import matplotlib.pyplot as plt\n",
      "from sklearn.linear_model import LinearRegression\n",
      "from sklearn.model_selection import train_test_split\n",
      "from sklearn.metrics import mean_squared_error\n",
      "# Generate data\n",
      "noise_strength = 10 \n",
      "x = np.linspace(0, 10, 100)\n",
      "y = x**2 + noise_strength * (np.random.random((len(x)))-0.5)\n",
      "test_size = 0.2 # Partion of data in test set\n",
      "shuffle = False # Whether to sample anywhere in domain of x or separate training and testing domains\n",
      "\n",
      "# Split data into train/dev/test\n",
      "x_train, x_test, y_train, y_test = train_test_split(x, y, test_size=test_size, shuffle=shuffle)\n",
      "x_train, x_dev, y_train, y_dev = train_test_split(x_train, y_train, test_size=test_size, shuffle=shuffle)\n",
      "# Visualize the data\n",
      "fig = plt.figure()\n",
      "plt.plot(x_train, y_train, 'k.')\n",
      "plt.plot(x_dev, y_dev, 'b.')\n",
      "plt.plot(x_test, y_test, 'r.')\n",
      "plt.legend(['train', 'dev', 'test'])\n",
      "plt.ylabel('y')\n",
      "plt.xlabel('x')\n",
      "plt.show()\n",
      "def make_features(x, degree=1):\n",
      "    X = np.zeros((len(x), degree+1))\n",
      "    for i in range(degree+1):\n",
      "        X[:, i] = x**i\n",
      "    return X\n",
      "d = 1\n",
      "\n",
      "X = make_features(x, degree=d)\n",
      "Y = y.reshape(-1, 1)\n",
      "\n",
      "# Split data into train/dev/test\n",
      "X_train, X_test, Y_train, Y_test = train_test_split(X, Y, test_size=test_size, shuffle=shuffle)\n",
      "X_train, X_dev, Y_train, Y_dev = train_test_split(X_train, Y_train, test_size=test_size, shuffle=shuffle)\n",
      "reg = LinearRegression(fit_intercept=False)\n",
      "reg.fit(X_train, Y_train)\n",
      "reg.coef_\n",
      "from IPython.display import display, Math\n",
      "\n",
      "def latexify_predictor(coefs):\n",
      "    s = ['$f_\\mathbf{w}(x) = ']\n",
      "    for i, c in enumerate(coefs):\n",
      "        if abs(c) > 0:\n",
      "            if c > 0 and i > 0:\n",
      "                s.append('+')\n",
      "            s.append('{:.3f}'.format(c))\n",
      "            if i > 0:\n",
      "                s.append('x^{}'.format(i))\n",
      "    s.append('$')\n",
      "    return ''.join(s)\n",
      "\n",
      "display(Math(latexify_predictor(reg.coef_[0])))\n",
      "def get_error(x, y, reg, degree):\n",
      "    X = make_features(x, degree=d)\n",
      "    y_pred = reg.predict(X)\n",
      "    mse_val = mean_squared_error(y, y_pred)\n",
      "    return mse_val\n",
      "mse_dev = get_error(x_dev, y_dev, reg, d)\n",
      "mse_train = get_error(x_train, y_train, reg, d)\n",
      "\n",
      "score_dev = reg.score(X_dev, Y_dev)\n",
      "score_train = reg.score(X_train, Y_train)\n",
      "\n",
      "# Print the errors\n",
      "print('degree = %d'%(d))\n",
      "print('\\n')\n",
      "print('validation score = %.4f'%( score_dev ))\n",
      "print('train score = %.4f'%( score_train ))\n",
      "print('\\n')\n",
      "print('validation MSE = %.4f'%(mse_dev))\n",
      "print('train MSE = %.4f'%(mse_train))\n",
      "# Define the input to span training and validation sets (excluding test set) - no cheating!\n",
      "x_c = np.linspace(x[0], np.max(x_dev), 100)\n",
      "\n",
      "fig = plt.figure()\n",
      "ax = fig.add_subplot(111)\n",
      "ax.plot(x_c, reg.predict(make_features(x_c, degree=d)), '--')\n",
      "ax.plot(x_train, y_train, '.')\n",
      "ax.plot(x_dev, y_dev, '^', ms=6)\n",
      "ax.plot(x_dev, reg.predict(make_features(x_dev, degree=d)), '.')\n",
      "\n",
      "ax.set_xlabel('x')\n",
      "ax.set_ylabel('y')\n",
      "ax.set_ylim(np.min(y_train), np.max(y_dev))\n",
      "ax.legend(['polynomial fit', 'train data', 'dev data', 'dev prediction'])\n",
      "plt.show()\n",
      "# Split the data\n",
      "def split_data(x, y, test_size=0.2, shuffle=False):\n",
      "    X = make_features(x, degree=d)\n",
      "    Y = y.reshape(-1, 1)\n",
      "\n",
      "    X_train, X_test, Y_train, Y_test = train_test_split(X, Y, test_size=test_size, shuffle=shuffle)\n",
      "    X_train, X_dev, Y_train, Y_dev = train_test_split(X_train, Y_train, test_size=test_size, shuffle=shuffle)\n",
      "    \n",
      "    return X_train, Y_train, X_dev, Y_dev, X_test, Y_test\n",
      "\n",
      "# Plot results\n",
      "def plot_results(x_train, y_train, x_dev, y_dev, reg, d):\n",
      "    x_c = np.linspace(x[0], np.max(x_dev), 100)\n",
      "\n",
      "    fig = plt.figure()\n",
      "    ax = fig.add_subplot(111)\n",
      "    ax.plot(x_c, reg.predict(make_features(x_c, degree=d)), '--')\n",
      "    ax.plot(x_train, y_train, '.')\n",
      "    ax.plot(x_dev, y_dev, '^', ms=6)\n",
      "    ax.plot(x_dev, reg.predict(make_features(x_dev, degree=d)), '.')\n",
      "\n",
      "    ax.set_xlabel('x')\n",
      "    ax.set_ylabel('y')\n",
      "    ax.set_ylim(np.min(y_train), np.max(y_dev))\n",
      "    ax.legend(['polynomial fit', 'train data', 'dev data', 'dev prediction'])\n",
      "    plt.show()\n",
      "degree_list = [1, 2, 3, 6]\n",
      "\n",
      "reg_list = []\n",
      "mse_dev_list = []\n",
      "score_dev_list = []\n",
      "\n",
      "for d in degree_list:\n",
      "    \n",
      "    # Split data\n",
      "    X_train, Y_train, X_dev, Y_dev, X_test, Y_test = split_data(x, y)\n",
      "    \n",
      "    # Fit model\n",
      "    reg = LinearRegression(fit_intercept=False)\n",
      "    reg.fit(X_train, Y_train)\n",
      "    \n",
      "    # Compute errors\n",
      "    mse_dev = get_error(x_dev, y_dev, reg, d)\n",
      "    mse_train = get_error(x_train, y_train, reg, d)\n",
      "    score_dev = reg.score(X_dev, Y_dev)\n",
      "    score_train = reg.score(X_train, Y_train)\n",
      "\n",
      "    # Print the errors\n",
      "    print('\\ndegree = %d'%(d))\n",
      "    print('validation score = %.4f'%( score_dev ))\n",
      "    print('train score = %.4f'%( score_train ))\n",
      "    print('validation MSE = %.4f'%(mse_dev))\n",
      "    print('train MSE = %.4f'%(mse_train))\n",
      "    \n",
      "    # Print model\n",
      "    display(Math(latexify_predictor(reg.coef_[0])))\n",
      "    \n",
      "    # Plot results\n",
      "    plot_results(x_train, y_train, x_dev, y_dev, reg, d)\n",
      "    \n",
      "    # Store results\n",
      "    reg_list.append(reg)\n",
      "    mse_dev_list.append(mse_dev)\n",
      "    score_dev_list.append(score_dev)\n",
      "# Let's see who wins!\n",
      "best_degree = degree_list[np.argmax(score_dev_list)]\n",
      "print('best predictor has degree (drum roll)... ', best_degree, '!')\n",
      "from sklearn.linear_model import Lasso\n",
      "\n",
      "d = 2\n",
      "\n",
      "# Split data\n",
      "X_train, Y_train, X_dev, Y_dev, X_test, Y_test = split_data(x, y)\n",
      "\n",
      "# Fit model\n",
      "reg = Lasso(fit_intercept=False)\n",
      "reg.fit(X_train, Y_train)\n",
      "\n",
      "# Compute errors\n",
      "mse_dev = get_error(x_dev, y_dev, reg, d)\n",
      "mse_train = get_error(x_train, y_train, reg, d)\n",
      "score_dev = reg.score(X_dev, Y_dev)\n",
      "score_train = reg.score(X_train, Y_train)\n",
      "\n",
      "# Print the errors\n",
      "print('\\ndegree = %d'%(d))\n",
      "print('validation score = %.4f'%( score_dev ))\n",
      "print('train score = %.4f'%( score_train ))\n",
      "print('validation MSE = %.4f'%(mse_dev))\n",
      "print('train MSE = %.4f'%(mse_train))\n",
      "\n",
      "# Print model\n",
      "display(Math(latexify_predictor(reg.coef_)))\n",
      "\n",
      "# Plot results\n",
      "plot_results(x_train, y_train, x_dev, y_dev, reg, d)\n",
      "# Print the errors\n",
      "print('\\ndegree = %d'%(d))\n",
      "print('validation score = %.4f'%( score_dev ))\n",
      "print('train score = %.4f'%( score_train ))\n",
      "print('validation MSE = %.4f'%(mse_dev))\n",
      "print('train MSE = %.4f'%(mse_train))\n",
      "\n",
      "fig = plt.figure()\n",
      "ax = fig.add_subplot(111)\n",
      "ax.plot(x, reg.predict(make_features(x, degree=d)), '--')\n",
      "ax.plot(x_train, y_train, '.')\n",
      "ax.plot(x_dev, y_dev, '^', ms=6)\n",
      "ax.plot(x_dev, reg.predict(make_features(x_dev, degree=d)), '.')\n",
      "ax.plot(x_test, y_test, '*', ms=6)\n",
      "ax.plot(x_test, reg.predict(make_features(x_test, degree=d)), '.')\n",
      "\n",
      "ax.set_xlabel('x')\n",
      "ax.set_ylabel('y')\n",
      "ax.legend(['polynomial fit', 'train data', 'dev data', 'dev prediction', 'test data', 'test prediction'])\n",
      "plt.show()\n",
      "import tensorflow as tf\n",
      "import tensorflow as tf\n",
      "from tensorflow.keras import layers\n",
      "model = tf.keras.models.Sequential()\n",
      "model.add(layers.Dense(5, activation='elu'))\n",
      "model.add(layers.Dense(5, activation='elu'))\n",
      "model.add(layers.Dense(1, activation='linear'))\n",
      "\n",
      "model.compile(optimizer='adam', loss='mse')\n",
      "model.fit(X_train, y_train)\n",
      "model = tf.keras.models.Sequential()\n",
      "model.add(layers.Dense(5, activation='elu'))\n",
      "model.add(layers.Dense(5, activation='elu'))\n",
      "model.add(layers.Dense(1, activation='linear'))\n",
      "\n",
      "model.compile(optimizer='adam', loss='mse')\n",
      "model.fit(X_train, y_train,\n",
      "          batch_size=10,\n",
      "          epochs=20,\n",
      "          validation_data=(X_dev, y_dev))\n",
      "model = tf.keras.models.Sequential()\n",
      "model.add(layers.Dense(5, activation='elu'))\n",
      "model.add(layers.Dense(1, activation='linear'))\n",
      "\n",
      "model.compile(optimizer='adam', loss='mse')\n",
      "model.fit(X_train, y_train,\n",
      "          batch_size=10,\n",
      "          epochs=20,\n",
      "          validation_data=(X_dev, y_dev))\n",
      "# Generate data\n",
      "noise_strength = 10 \n",
      "x = np.linspace(0, 10, 10000)\n",
      "y = x**2 + noise_strength * (np.random.random((len(x)))-0.5)\n",
      "test_size = 0.2 # Partion of data in test set\n",
      "shuffle = False # Whether to sample anywhere in domain of x or separate training and testing domains\n",
      "\n",
      "# Split data into train/dev/test\n",
      "x_train, x_test, y_train, y_test = train_test_split(x, y, test_size=test_size, shuffle=shuffle)\n",
      "x_train, x_dev, y_train, y_dev = train_test_split(x_train, y_train, test_size=test_size, shuffle=shuffle)\n",
      "\n",
      "model = tf.keras.models.Sequential()\n",
      "model.add(layers.Dense(5, activation='elu'))\n",
      "model.add(layers.Dense(1, activation='linear'))\n",
      "\n",
      "model.compile(optimizer='adam', loss='mse')\n",
      "model.fit(X_train, y_train,\n",
      "          batch_size=10,\n",
      "          epochs=20,\n",
      "          validation_data=(X_dev, y_dev))\n",
      "\n",
      "model = tf.keras.models.Sequential()\n",
      "model.add(layers.Dense(5, activation='elu'))\n",
      "model.add(layers.Dense(1, activation='linear'))\n",
      "\n",
      "model.compile(optimizer='adam', loss='mse')\n",
      "model.fit(x_train, y_train,\n",
      "          batch_size=10,\n",
      "          epochs=20,\n",
      "          validation_data=(x_dev, y_dev))\n",
      "y_test = model.predict(x_test)\n",
      "\n",
      "fig = plt.figure()\n",
      "plt.plot(x_test, y_test)\n",
      "plt.show()\n",
      "# Generate data\n",
      "noise_strength = 10 \n",
      "x = np.linspace(0, 10, 10000)\n",
      "y = x**2 + noise_strength * (np.random.random((len(x)))-0.5)\n",
      "test_size = 0.2 # Partion of data in test set\n",
      "shuffle = False # Whether to sample anywhere in domain of x or separate training and testing domains\n",
      "\n",
      "# Split data into train/dev/test\n",
      "x_train, x_test, y_train, y_test = train_test_split(x, y, test_size=test_size, shuffle=shuffle)\n",
      "x_train, x_dev, y_train, y_dev = train_test_split(x_train, y_train, test_size=test_size, shuffle=shuffle)\n",
      "\n",
      "model = tf.keras.models.Sequential()\n",
      "model.add(layers.Dense(5, activation='elu'))\n",
      "model.add(layers.Dense(1, activation='linear'))\n",
      "\n",
      "model.compile(optimizer='adam', loss='mse')\n",
      "model.fit(x_train, y_train,\n",
      "          batch_size=10,\n",
      "          epochs=20,\n",
      "          validation_data=(x_dev, y_dev))\n",
      "y_pred = model.predict(x_test)\n",
      "\n",
      "fig = plt.figure()\n",
      "plt.plot(x_test, y_test)\n",
      "plt.plot(x, y, '.')\n",
      "plt.show()\n",
      "y_pred = model.predict(x_test)\n",
      "\n",
      "fig = plt.figure()\n",
      "plt.plot(x, y, '.')\n",
      "plt.plot(x_test, y_test)\n",
      "plt.show()\n",
      "\n",
      "y_pred = model.predict(x_test)\n",
      "\n",
      "fig = plt.figure()\n",
      "plt.plot(x, y, '.')\n",
      "plt.plot(x_test, y_test)\n",
      "plt.plot(x_test, y_pred)\n",
      "plt.show()\n",
      "\n",
      "model = tf.keras.models.Sequential()\n",
      "model.add(layers.Dense(5, activation='elu'))\n",
      "model.add(layers.Dense(1, activation='linear'))\n",
      "\n",
      "model.compile(optimizer='adam', loss='mse')\n",
      "model.fit(x_train, y_train,\n",
      "          batch_size=32,\n",
      "          epochs=100,\n",
      "          validation_data=(x_dev, y_dev))\n",
      "\n",
      "model = tf.keras.models.Sequential()\n",
      "model.add(layers.Dense(10, activation='relu'))\n",
      "model.add(layers.Dense(10, activation='relu'))\n",
      "model.add(layers.Dense(1, activation='linear'))\n",
      "\n",
      "model.compile(optimizer='adam', loss='mse')\n",
      "model.fit(x_train, y_train,\n",
      "          batch_size=32,\n",
      "          epochs=100,\n",
      "          validation_data=(x_dev, y_dev))\n",
      "\n",
      "y_pred = model.predict(x_test)\n",
      "\n",
      "fig = plt.figure()\n",
      "plt.plot(x, y, '.')\n",
      "plt.plot(x_test, y_test)\n",
      "plt.plot(x_test, y_pred)\n",
      "plt.show()\n",
      "# Generate data\n",
      "noise_strength = 10 \n",
      "x = np.linspace(0, 10, 100000)\n",
      "y = x**2 + noise_strength * (np.random.random((len(x)))-0.5)\n",
      "test_size = 0.2 # Partion of data in test set\n",
      "shuffle = False # Whether to sample anywhere in domain of x or separate training and testing domains\n",
      "\n",
      "# Split data into train/dev/test\n",
      "x_train, x_test, y_train, y_test = train_test_split(x, y, test_size=test_size, shuffle=shuffle)\n",
      "x_train, x_dev, y_train, y_dev = train_test_split(x_train, y_train, test_size=test_size, shuffle=shuffle)\n",
      "\n",
      "model = tf.keras.models.Sequential()\n",
      "model.add(layers.Dense(10, activation='relu'))\n",
      "model.add(layers.Dense(10, activation='relu'))\n",
      "model.add(layers.Dense(1, activation='linear'))\n",
      "\n",
      "model.compile(optimizer='adam', loss='mse')\n",
      "model.fit(x_train, y_train,\n",
      "          batch_size=32,\n",
      "          epochs=100,\n",
      "          validation_data=(x_dev, y_dev))\n",
      "\n",
      "model = tf.keras.models.Sequential()\n",
      "model.add(layers.Dense(10, activation='elu'))\n",
      "model.add(layers.Dense(10, activation='elu'))\n",
      "model.add(layers.Dense(10, activation='elu'))\n",
      "model.add(layers.Dense(1, activation='linear'))\n",
      "\n",
      "model.compile(optimizer='adam', loss='mse')\n",
      "model.fit(x_train, y_train,\n",
      "          batch_size=32,\n",
      "          epochs=100,\n",
      "          validation_data=(x_dev, y_dev))\n",
      "\n",
      "y_pred = model.predict(x_test)\n",
      "\n",
      "fig = plt.figure()\n",
      "plt.plot(x, y, '.')\n",
      "plt.plot(x_test, y_test)\n",
      "plt.plot(x_train, model.predict(x_train))\n",
      "plt.plot(x_test, model.predict(x_test))\n",
      "plt.show()\n",
      "\n",
      "model = tf.keras.models.Sequential()\n",
      "model.add(layers.Dense(10, activation='elu', activity_regularizer=0.01))\n",
      "model.add(layers.Dense(10, activation='elu', activity_regularizer=0.01))\n",
      "model.add(layers.Dense(10, activation='elu', activity_regularizer=0.01))\n",
      "model.add(layers.Dense(1, activation='linear', activity_regularizer=0.01))\n",
      "\n",
      "model.compile(optimizer='adam', loss='mse')\n",
      "model.fit(x_train, y_train,\n",
      "          batch_size=32,\n",
      "          epochs=100,\n",
      "          validation_data=(x_dev, y_dev))\n",
      "l2reg = 0.001\n",
      "model = tf.keras.models.Sequential()\n",
      "model.add(layers.Dense(10, activation='elu', activity_regularizer=l2reg))\n",
      "model.add(layers.Dense(10, activation='elu', activity_regularizer=l2reg))\n",
      "model.add(layers.Dense(10, activation='elu', activity_regularizer=l2reg))\n",
      "model.add(layers.Dense(1, activation='linear', activity_regularizer=l2reg))\n",
      "\n",
      "model.compile(optimizer='adam', loss='mse')\n",
      "model.fit(x_train, y_train,\n",
      "          batch_size=32,\n",
      "          epochs=100,\n",
      "          validation_data=(x_dev, y_dev))\n",
      "\n",
      "y_pred = model.predict(x_test)\n",
      "\n",
      "fig = plt.figure()\n",
      "plt.plot(x, y, '.')\n",
      "plt.plot(x_test, y_test)\n",
      "plt.plot(x_train, model.predict(x_train))\n",
      "plt.plot(x_test, model.predict(x_test))\n",
      "plt.plot(x_test, model.predict(x_test))\n",
      "plt.show()\n",
      "\n",
      "y_pred = model.predict(x_test)\n",
      "\n",
      "fig = plt.figure()\n",
      "plt.plot(x, y, '.')\n",
      "plt.plot(x_test, y_test)\n",
      "plt.plot(x_train, model.predict(x_train))\n",
      "plt.plot(x_dev, model.predict(x_dev))\n",
      "plt.plot(x_test, model.predict(x_test))\n",
      "plt.show()\n",
      "l2reg = 0.001\n",
      "model = tf.keras.models.Sequential()\n",
      "model.add(layers.Dense(10, activation='elu', activity_regularizer=tf.keras.regularizers.L2(l2reg)))\n",
      "model.add(layers.Dense(10, activation='elu', activity_regularizer=tf.keras.regularizers.L2(l2reg)))\n",
      "model.add(layers.Dense(10, activation='elu', activity_regularizer=tf.keras.regularizers.L2(l2reg)))\n",
      "model.add(layers.Dense(1, activation='linear', activity_regularizer=tf.keras.regularizers.L2(l2reg)))\n",
      "\n",
      "model.compile(optimizer='adam', loss='mse')\n",
      "model.fit(x_train, y_train,\n",
      "          batch_size=32,\n",
      "          epochs=100,\n",
      "          validation_data=(x_dev, y_dev))\n",
      "history.history\n",
      "history\n"
     ]
    }
   ],
   "source": [
    "history"
   ]
  }
 ],
 "metadata": {
  "colab": {
   "name": "ML_tutorial.ipynb",
   "provenance": []
  },
  "kernelspec": {
   "display_name": "base",
   "language": "python",
   "name": "python3"
  },
  "language_info": {
   "codemirror_mode": {
    "name": "ipython",
    "version": 3
   },
   "file_extension": ".py",
   "mimetype": "text/x-python",
   "name": "python",
   "nbconvert_exporter": "python",
   "pygments_lexer": "ipython3",
   "version": "3.8.5"
  },
  "vscode": {
   "interpreter": {
    "hash": "1cec93c3674bfd1afa4b15c70c9d9dc0c8affa484b58136f14c49e79b9d4b788"
   }
  }
 },
 "nbformat": 4,
 "nbformat_minor": 4
}
